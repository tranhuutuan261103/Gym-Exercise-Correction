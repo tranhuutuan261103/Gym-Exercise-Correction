{
 "cells": [
  {
   "cell_type": "code",
   "execution_count": 131,
   "metadata": {},
   "outputs": [
    {
     "name": "stdout",
     "output_type": "stream",
     "text": [
      "The autoreload extension is already loaded. To reload it, use:\n",
      "  %reload_ext autoreload\n"
     ]
    }
   ],
   "source": [
    "# Thêm autoreload vào để tự động reload lại module nếu có thay đổi code trong module\n",
    "%load_ext autoreload\n",
    "%autoreload 2\n",
    "\n",
    "import mediapipe as mp\n",
    "import math\n",
    "import numpy as np\n",
    "import pandas as pd\n",
    "import time as Time\n",
    "import cv2\n",
    "import copy\n",
    "import warnings\n",
    "warnings.filterwarnings('ignore')\n",
    "\n",
    "import os, sys\n",
    "sys.path.append(os.path.abspath(\"..\"))\n",
    "from utils.common import load_model, get_color_for_landmarks\n",
    "\n",
    "# Drawing helpers\n",
    "mp_drawing = mp.solutions.drawing_utils\n",
    "mp_pose = mp.solutions.pose"
   ]
  },
  {
   "cell_type": "markdown",
   "metadata": {},
   "source": [
    "### Thực hiện việc dự đoán với các model Scikit learn có độ chính xác cao nhất"
   ]
  },
  {
   "cell_type": "code",
   "execution_count": 132,
   "metadata": {},
   "outputs": [],
   "source": [
    "# Load model\n",
    "# RF_model.pkl là sau điều chỉnh tham số\n",
    "RF_model = load_model('./best_models/RF_model.pkl')\n",
    "\n",
    "# Load input scaler\n",
    "input_scaler = load_model(\"./best_models/input_scaler.pkl\")"
   ]
  },
  {
   "cell_type": "code",
   "execution_count": 133,
   "metadata": {},
   "outputs": [],
   "source": [
    "IMPORTANT_LMS = [\n",
    "    \"NOSE\",\n",
    "    \"LEFT_SHOULDER\",\n",
    "    \"RIGHT_SHOULDER\",\n",
    "    \"LEFT_ELBOW\",\n",
    "    \"RIGHT_ELBOW\",\n",
    "    \"LEFT_WRIST\",\n",
    "    \"RIGHT_WRIST\",\n",
    "    \"LEFT_HIP\",\n",
    "    \"RIGHT_HIP\",\n",
    "    \"LEFT_KNEE\",\n",
    "    \"RIGHT_KNEE\",\n",
    "    \"LEFT_ANKLE\",\n",
    "    \"RIGHT_ANKLE\",\n",
    "    \"LEFT_HEEL\",\n",
    "    \"RIGHT_HEEL\",\n",
    "    \"LEFT_FOOT_INDEX\",\n",
    "    \"RIGHT_FOOT_INDEX\"\n",
    "]\n",
    "\n",
    "# Tạo các cột cho dữ liệu đầu vào\n",
    "HEADERS = [\"label\"]\n",
    "for landmark in IMPORTANT_LMS:\n",
    "    for dim in ['x', 'y', 'z']:\n",
    "        HEADERS.append(f\"{landmark.lower()}_{dim}\")"
   ]
  },
  {
   "cell_type": "code",
   "execution_count": 134,
   "metadata": {},
   "outputs": [],
   "source": [
    "def extract_and_recalculate_landmarks(pose_landmarks):\n",
    "    \"\"\"\n",
    "    Tịnh tiến thân người vào giữa bức hình, đồng thời dời lại trục toạ độ\n",
    "    \"\"\"\n",
    "    hip_center_x = float((pose_landmarks[23].x + pose_landmarks[24].x) / 2)\n",
    "    hip_center_y = float((pose_landmarks[23].y + pose_landmarks[24].y) / 2)\n",
    "\n",
    "    new_center = (0.5, 0.5)\n",
    "    delta_x = new_center[0] - hip_center_x\n",
    "    delta_y = new_center[1] - hip_center_y\n",
    "\n",
    "    data = []\n",
    "    for landmark in IMPORTANT_LMS:\n",
    "        # Lấy ra id của key point trên cơ thể người\n",
    "        key_point_id = mp_pose.PoseLandmark[landmark].value\n",
    "\n",
    "        key_point = pose_landmarks[key_point_id]\n",
    "        key_point.x += delta_x - 0.5\n",
    "        key_point.y += delta_y -0.5\n",
    "        data.append([key_point.x, key_point.y, key_point.z])\n",
    "\n",
    "    return np.array(data).flatten().tolist()\n",
    "\n",
    "\n",
    "def extract_important_key_points(results) -> list:\n",
    "    key_points = []\n",
    "\n",
    "    for lm in IMPORTANT_LMS:\n",
    "        # Lấy ra id của key point trên cơ thể người\n",
    "        key_point_id = mp_pose.PoseLandmark[lm].value\n",
    "        key_point = results.pose_landmarks.landmark[key_point_id]\n",
    "        key_points.append([key_point.x, key_point.y, key_point.z])\n",
    "\n",
    "    return np.array(key_points).flatten().tolist()\n",
    "\n",
    "def rescale_frame(frame, percent=50):\n",
    "    '''\n",
    "    Rescale a frame to a certain percentage compare to its original frame\n",
    "    '''\n",
    "    width = int(frame.shape[1] * percent/ 100)\n",
    "    height = int(frame.shape[0] * percent/ 100)\n",
    "    dim = (width, height)\n",
    "    return cv2.resize(frame, dim, interpolation =cv2.INTER_AREA)"
   ]
  },
  {
   "cell_type": "code",
   "execution_count": 135,
   "metadata": {},
   "outputs": [],
   "source": [
    "def get_class(encode_label: float):\n",
    "    return {\n",
    "        0: \"C\",\n",
    "        1: \"W\"\n",
    "    }.get(encode_label, \"Unknown\")"
   ]
  },
  {
   "cell_type": "markdown",
   "metadata": {},
   "source": [
    "### Dùng phương pháp hình học để xác định lỗi sai"
   ]
  },
  {
   "cell_type": "code",
   "execution_count": 136,
   "metadata": {},
   "outputs": [],
   "source": [
    "# xác định chiều dài và chiều rộng của bức ảnh\n",
    "def get_image_size(image):\n",
    "    return image.shape[1], image.shape[0]"
   ]
  },
  {
   "cell_type": "code",
   "execution_count": 137,
   "metadata": {},
   "outputs": [],
   "source": [
    "def calculate_angle(a, b, c, size_of_image):\n",
    "    # Lấy tọa độ của 3 điểm\n",
    "    a = (a[0] * size_of_image[0], a[1] * size_of_image[1])\n",
    "    b = (b[0] * size_of_image[0], b[1] * size_of_image[1])\n",
    "    c = (c[0] * size_of_image[0], c[1] * size_of_image[1])\n",
    "\n",
    "    # Tính góc giữa 3 điểm\n",
    "    angle = math.degrees(math.atan2(c[1] - b[1], c[0] - b[0]) - math.atan2(a[1] - b[1], a[0] - b[0]))\n",
    "    \n",
    "    # Chuyển góc về khoảng từ 0 đến 360 độ\n",
    "    if angle < 0:\n",
    "        angle += 360\n",
    "    return angle"
   ]
  },
  {
   "cell_type": "code",
   "execution_count": 138,
   "metadata": {},
   "outputs": [],
   "source": [
    "def define_error(key_points, image_size):\n",
    "    error = []\n",
    "    angle = 180\n",
    "\n",
    "    if (key_points.nose_x[0] > 0):\n",
    "        angle = calculate_angle((key_points.right_shoulder_x[0], key_points.right_shoulder_y[0]), \n",
    "                        (key_points.right_hip_x[0], key_points.right_hip_y[0]), \n",
    "                        (key_points.right_ankle_x[0], key_points.right_ankle_y[0]), \n",
    "                        image_size)\n",
    "    else:\n",
    "        angle = calculate_angle((key_points.left_ankle_x[0], key_points.left_ankle_y[0]), \n",
    "                        (key_points.left_hip_x[0], key_points.left_hip_y[0]), \n",
    "                        (key_points.left_shoulder_x[0], key_points.left_shoulder_y[0]),\n",
    "                        image_size)\n",
    "\n",
    "    if angle < 170:\n",
    "        error.append(\"high hip\")\n",
    "    elif angle > 190:\n",
    "        error.append(\"low hip\")\n",
    "\n",
    "    angle = 90\n",
    "    if (key_points.nose_x[0] > 0):\n",
    "        angle = calculate_angle((key_points.right_shoulder_x[0], key_points.right_shoulder_y[0]),\n",
    "                            (key_points.right_elbow_x[0], key_points.right_elbow_y[0]),\n",
    "                            (key_points.right_wrist_x[0], key_points.right_wrist_y[0]),\n",
    "                            image_size)\n",
    "    else:\n",
    "        angle = calculate_angle((key_points.left_wrist_x[0], key_points.left_wrist_y[0]),\n",
    "                            (key_points.left_elbow_x[0], key_points.left_elbow_y[0]),\n",
    "                            (key_points.left_shoulder_x[0], key_points.left_shoulder_y[0]),\n",
    "                            image_size)\n",
    "    \n",
    "    if angle < 75:\n",
    "        error.append(\"elbow to front\")\n",
    "    elif angle > 105:\n",
    "        error.append(\"elbow to after\")\n",
    "\n",
    "    if error == []:\n",
    "        return \"Unknown\"\n",
    "    else:\n",
    "        return \", \".join(error)"
   ]
  },
  {
   "cell_type": "code",
   "execution_count": 139,
   "metadata": {},
   "outputs": [],
   "source": [
    "\n",
    "def plank_detection_offline(video_path, prediction_probability_threshold = 0.5):\n",
    "    cap = cv2.VideoCapture(video_path if video_path else 0)\n",
    "    current_class = \"Unknown\"\n",
    "\n",
    "    # Số frame được bỏ qua\n",
    "    image_width, image_height = 0, 0\n",
    "    frame_skip = 1\n",
    "    frame_count = 0\n",
    "    result_frames = []\n",
    "\n",
    "    estimate_time_handler_matrix = np.array([\"time\", \"frame_index\", \"label\", \"error\"]).reshape(1, 4)\n",
    "    \n",
    "    with mp_pose.Pose(min_detection_confidence=0.5, min_tracking_confidence=0.5) as pose:\n",
    "        while cap.isOpened():\n",
    "            ret, image = cap.read()\n",
    "\n",
    "            if not ret:\n",
    "                print(\"Ignoring empty camera frame.\")\n",
    "                break\n",
    "            \n",
    "            time_flag = Time.time()\n",
    "            \n",
    "            frame_count += 1\n",
    "\n",
    "            # Bỏ qua frame nếu không phải frame được xử lý\n",
    "            if frame_count % frame_skip != 0:\n",
    "                continue\n",
    "\n",
    "            # resize frame để tăng tốc độ xử lý\n",
    "            image = rescale_frame(image, percent=30)\n",
    "            image_width, image_height = get_image_size(image)\n",
    "\n",
    "            image = cv2.cvtColor(image, cv2.COLOR_BGR2RGB)\n",
    "            results = pose.process(image)\n",
    "\n",
    "            if not results.pose_landmarks:\n",
    "                print(\"No human found\")\n",
    "                continue\n",
    "\n",
    "            initial_pose_landmarks = copy.deepcopy(results.pose_landmarks)\n",
    "            image.flags.writeable = True\n",
    "\n",
    "            # Cần khôi phục lại màu gốc của ảnh\n",
    "            image = cv2.cvtColor(image, cv2.COLOR_RGB2BGR)\n",
    "\n",
    "            # Get landmarks\n",
    "            try:\n",
    "                key_points = extract_and_recalculate_landmarks(results.pose_landmarks.landmark)\n",
    "                X = pd.DataFrame([key_points], columns=HEADERS[1:])\n",
    "                error = define_error(X, get_image_size(image))\n",
    "                X = input_scaler.transform(X)\n",
    "\n",
    "                predicted_class = RF_model.predict(X)[0]\n",
    "                predicted_class = get_class(RF_model.predict(X)[0])\n",
    "                prediction_probability_max = RF_model.predict_proba(X)[0].max()\n",
    "\n",
    "                if prediction_probability_max >= prediction_probability_threshold:\n",
    "                    current_class = predicted_class\n",
    "                else:\n",
    "                    current_class = \"Unknown\"\n",
    "\n",
    "                colors = get_color_for_landmarks(current_class)\n",
    "                mp_drawing.draw_landmarks(\n",
    "                        image,\n",
    "                        initial_pose_landmarks,\n",
    "                        mp_pose.POSE_CONNECTIONS,\n",
    "                        mp_drawing.DrawingSpec(color=colors[0], thickness=2, circle_radius=2),\n",
    "                        mp_drawing.DrawingSpec(color=colors[1], thickness=2, circle_radius=1),\n",
    "                    )\n",
    "\n",
    "                cv2.rectangle(image, (0, 0), (750, 60), (245, 117, 16), -1)\n",
    "\n",
    "                # Display error\n",
    "                cv2.putText(image, \"ERROR\", (180, 12), cv2.FONT_HERSHEY_COMPLEX, 0.5, (0, 0, 0), 1, cv2.LINE_AA)\n",
    "                if (current_class == \"Unknown\"):\n",
    "                    cv2.putText(image, \"Unknown\", (180, 40), cv2.FONT_HERSHEY_COMPLEX, 1, (255, 255, 255), 2, cv2.LINE_AA)\n",
    "                elif (current_class == \"W\"):\n",
    "                    cv2.putText(image, error, (180, 40), cv2.FONT_HERSHEY_COMPLEX, 1, (255, 255, 255), 2, cv2.LINE_AA)\n",
    "                else:\n",
    "                    cv2.putText(image, \"None\", (180, 40), cv2.FONT_HERSHEY_COMPLEX, 1, (255, 255, 255), 2, cv2.LINE_AA)\n",
    "\n",
    "                # Display class\n",
    "                cv2.putText(image, \"CLASS\", (95, 12), cv2.FONT_HERSHEY_COMPLEX, 0.5, (0, 0, 0), 1, cv2.LINE_AA)\n",
    "                cv2.putText(image, current_class, (110, 40), cv2.FONT_HERSHEY_COMPLEX, 1, (255, 255, 255), 2, cv2.LINE_AA)\n",
    "\n",
    "                # Display probability\n",
    "                cv2.putText(image, \"PROB\", (15, 12), cv2.FONT_HERSHEY_COMPLEX, 0.5, (0, 0, 0), 1, cv2.LINE_AA)\n",
    "                cv2.putText(image, str(round(prediction_probability_max, 2)), (10, 40), cv2.FONT_HERSHEY_COMPLEX, 1, (255, 255, 255), 2, cv2.LINE_AA)\n",
    "\n",
    "                # Lưu frame vào để phục vụ cho việc xuất video\n",
    "                result_frames.append(image)\n",
    "\n",
    "                estimate_time_handler_matrix = np.vstack([estimate_time_handler_matrix, [Time.time() - time_flag, frame_count, current_class, error]])\n",
    "\n",
    "            except Exception as e:\n",
    "                print(f\"Error: {e}\")\n",
    "\n",
    "            cv2.imshow(\"CV2\", image)\n",
    "\n",
    "            # Nhấn q để thoát\n",
    "            if cv2.waitKey(1) & 0xFF == ord('q'):\n",
    "                break\n",
    "        pd.DataFrame(estimate_time_handler_matrix[1:], \n",
    "                            columns=estimate_time_handler_matrix[0]).to_csv(\"estimate_time_handler_matrix.csv\", index=False)\n",
    "        cap.release()\n",
    "        cv2.destroyAllWindows()\n",
    "\n",
    "    # Xuất video\n",
    "    out = cv2.VideoWriter(\n",
    "        \"output.mp4\", cv2.VideoWriter_fourcc(*\"H264\"), 15, (image_width, image_height)\n",
    "    )\n",
    "\n",
    "    # Ghi các frame vào video\n",
    "    for frame in result_frames:\n",
    "        out.write(frame)\n",
    "\n",
    "    # Giải phóng VideoWriter object\n",
    "    out.release()\n",
    "\n",
    "    return result_frames"
   ]
  },
  {
   "cell_type": "code",
   "execution_count": 140,
   "metadata": {},
   "outputs": [],
   "source": [
    "def plank_detection_realtime(video_path, prediction_probability_threshold = 0.5):\n",
    "    cap = cv2.VideoCapture(video_path if video_path else 0)\n",
    "    current_class = \"Unknown\"\n",
    "\n",
    "    # Số frame được bỏ qua\n",
    "    frame_skip = 2\n",
    "    frame_count = 0\n",
    "    image_width, image_height = 0, 0\n",
    "\n",
    "    result_frames = []\n",
    "    with mp_pose.Pose(min_detection_confidence=0.5, min_tracking_confidence=0.5) as pose:\n",
    "        while cap.isOpened():\n",
    "            ret, image = cap.read()\n",
    "\n",
    "            if not ret:\n",
    "                print(\"Ignoring empty camera frame.\")\n",
    "                break\n",
    "\n",
    "            frame_count += 1\n",
    "\n",
    "            # Bỏ qua frame nếu không phải frame được xử lý\n",
    "            if frame_count % frame_skip != 0:\n",
    "                continue\n",
    "\n",
    "            # resize frame để tăng tốc độ xử lý\n",
    "            image = rescale_frame(image, percent=30)\n",
    "            image_width, image_height = get_image_size(image)\n",
    "\n",
    "            image = cv2.cvtColor(image, cv2.COLOR_BGR2RGB)\n",
    "            results = pose.process(image)\n",
    "\n",
    "            if not results.pose_landmarks:\n",
    "                print(\"No human found\")\n",
    "                continue\n",
    "\n",
    "            image.flags.writeable = True\n",
    "\n",
    "            # Cần khôi phục lại màu gốc của ảnh\n",
    "            image = cv2.cvtColor(image, cv2.COLOR_RGB2BGR)\n",
    "\n",
    "            # Get landmarks\n",
    "            try:\n",
    "                key_points = extract_and_recalculate_landmarks(results.pose_landmarks.landmark)\n",
    "                X = pd.DataFrame([key_points], columns=HEADERS[1:])\n",
    "                error = define_error(X, get_image_size(image))\n",
    "                X = input_scaler.transform(X)\n",
    "\n",
    "                predicted_class = RF_model.predict(X)[0]\n",
    "                predicted_class = get_class(RF_model.predict(X)[0])\n",
    "                prediction_probability_max = RF_model.predict_proba(X)[0].max()\n",
    "\n",
    "                if prediction_probability_max >= prediction_probability_threshold:\n",
    "                    current_class = predicted_class\n",
    "                else:\n",
    "                    current_class = \"Unknown\"\n",
    "\n",
    "                cv2.rectangle(image, (0, 0), (750, 60), (245, 117, 16), -1)\n",
    "\n",
    "                # Display error\n",
    "                cv2.putText(image, \"ERROR\", (180, 12), cv2.FONT_HERSHEY_COMPLEX, 0.5, (0, 0, 0), 1, cv2.LINE_AA)\n",
    "                if (current_class == \"Unknown\"):\n",
    "                    cv2.putText(image, \"Unknown\", (180, 40), cv2.FONT_HERSHEY_COMPLEX, 1, (255, 255, 255), 2, cv2.LINE_AA)\n",
    "                elif (current_class == \"W\"):\n",
    "                    cv2.putText(image, error, (180, 40), cv2.FONT_HERSHEY_COMPLEX, 1, (255, 255, 255), 2, cv2.LINE_AA)\n",
    "                else:\n",
    "                    cv2.putText(image, \"None\", (180, 40), cv2.FONT_HERSHEY_COMPLEX, 1, (255, 255, 255), 2, cv2.LINE_AA)\n",
    "\n",
    "                # Display class\n",
    "                cv2.putText(image, \"CLASS\", (95, 12), cv2.FONT_HERSHEY_COMPLEX, 0.5, (0, 0, 0), 1, cv2.LINE_AA)\n",
    "                cv2.putText(image, current_class, (110, 40), cv2.FONT_HERSHEY_COMPLEX, 1, (255, 255, 255), 2, cv2.LINE_AA)\n",
    "\n",
    "                # Display probability\n",
    "                cv2.putText(image, \"PROB\", (15, 12), cv2.FONT_HERSHEY_COMPLEX, 0.5, (0, 0, 0), 1, cv2.LINE_AA)\n",
    "                cv2.putText(image, str(round(prediction_probability_max, 2)), (10, 40), cv2.FONT_HERSHEY_COMPLEX, 1, (255, 255, 255), 2, cv2.LINE_AA)\n",
    "\n",
    "                # Lưu frame vào để phục vụ cho việc xuất video\n",
    "                result_frames.append(image)\n",
    "\n",
    "            except Exception as e:\n",
    "                print(f\"Error: {e}\")\n",
    "\n",
    "            cv2.imshow(\"CV2\", image)\n",
    "\n",
    "            # Nhấn q để thoát\n",
    "            if cv2.waitKey(1) & 0xFF == ord('q'):\n",
    "                break\n",
    "        cap.release()\n",
    "        cv2.destroyAllWindows()\n",
    "\n",
    "    # Xuất video\n",
    "    out = cv2.VideoWriter(\n",
    "        \"output.mp4\", cv2.VideoWriter_fourcc(*\"H264\"), 20, (image_width, image_height)\n",
    "    )\n",
    "\n",
    "    # Ghi các frame vào video\n",
    "    for frame in result_frames:\n",
    "        out.write(frame)\n",
    "\n",
    "    out.release()\n",
    "    return result_frames"
   ]
  },
  {
   "cell_type": "code",
   "execution_count": 141,
   "metadata": {},
   "outputs": [],
   "source": [
    "# plank_detection_realtime(\"5.mp4\")"
   ]
  },
  {
   "cell_type": "code",
   "execution_count": 142,
   "metadata": {},
   "outputs": [
    {
     "name": "stdout",
     "output_type": "stream",
     "text": [
      "Ignoring empty camera frame.\n"
     ]
    }
   ],
   "source": [
    "result_frames = plank_detection_offline(\"1212.mp4\")"
   ]
  },
  {
   "cell_type": "code",
   "execution_count": 143,
   "metadata": {},
   "outputs": [
    {
     "name": "stdout",
     "output_type": "stream",
     "text": [
      "<class 'pandas.core.frame.DataFrame'>\n",
      "RangeIndex: 1239 entries, 0 to 1238\n",
      "Data columns (total 4 columns):\n",
      " #   Column       Non-Null Count  Dtype  \n",
      "---  ------       --------------  -----  \n",
      " 0   time         1239 non-null   float64\n",
      " 1   frame_index  1239 non-null   int64  \n",
      " 2   label        1239 non-null   object \n",
      " 3   error        1239 non-null   object \n",
      "dtypes: float64(1), int64(1), object(2)\n",
      "memory usage: 38.8+ KB\n"
     ]
    }
   ],
   "source": [
    "analyze = pd.read_csv(\"estimate_time_handler_matrix.csv\")\n",
    "\n",
    "analyze.info()"
   ]
  },
  {
   "cell_type": "code",
   "execution_count": 144,
   "metadata": {},
   "outputs": [
    {
     "data": {
      "text/plain": [
       "<seaborn.axisgrid.FacetGrid at 0x16287c45cd0>"
      ]
     },
     "execution_count": 144,
     "metadata": {},
     "output_type": "execute_result"
    },
    {
     "data": {
      "image/png": "[encoded data removed]",
      "text/plain": [
       "<Figure size 500x500 with 1 Axes>"
      ]
     },
     "metadata": {},
     "output_type": "display_data"
    }
   ],
   "source": [
    "import seaborn as sns\n",
    "\n",
    "sns.set_theme(style=\"whitegrid\")\n",
    "sns.displot(analyze, x=\"time\", kind=\"kde\", fill=True)"
   ]
  },
  {
   "cell_type": "code",
   "execution_count": 145,
   "metadata": {},
   "outputs": [
    {
     "data": {
      "text/plain": [
       "0.12513863588168406"
      ]
     },
     "execution_count": 145,
     "metadata": {},
     "output_type": "execute_result"
    }
   ],
   "source": [
    "analyze[\"time\"].mean()"
   ]
  },
  {
   "cell_type": "code",
   "execution_count": 146,
   "metadata": {},
   "outputs": [
    {
     "data": {
      "text/plain": [
       "0.320026159286499"
      ]
     },
     "execution_count": 146,
     "metadata": {},
     "output_type": "execute_result"
    }
   ],
   "source": [
    "analyze[\"time\"].max()"
   ]
  },
  {
   "cell_type": "code",
   "execution_count": 147,
   "metadata": {},
   "outputs": [
    {
     "data": {
      "text/plain": [
       "0.1147933006286621"
      ]
     },
     "execution_count": 147,
     "metadata": {},
     "output_type": "execute_result"
    }
   ],
   "source": [
    "analyze[\"time\"].min()"
   ]
  }
 ],
 "metadata": {
  "kernelspec": {
   "display_name": ".venv",
   "language": "python",
   "name": "python3"
  },
  "language_info": {
   "codemirror_mode": {
    "name": "ipython",
    "version": 3
   },
   "file_extension": ".py",
   "mimetype": "text/x-python",
   "name": "python",
   "nbconvert_exporter": "python",
   "pygments_lexer": "ipython3",
   "version": "3.11.3"
  }
 },
 "nbformat": 4,
 "nbformat_minor": 2
}
