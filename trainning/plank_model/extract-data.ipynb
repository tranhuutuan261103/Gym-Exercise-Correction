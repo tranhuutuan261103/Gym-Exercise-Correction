{
 "cells": [
  {
   "cell_type": "code",
   "execution_count": 2,
   "metadata": {},
   "outputs": [
    {
     "name": "stdout",
     "output_type": "stream",
     "text": [
      "The autoreload extension is already loaded. To reload it, use:\n",
      "  %reload_ext autoreload\n"
     ]
    }
   ],
   "source": [
    "# Thêm autoreload vào để tự động reload lại module nếu có thay đổi code trong module\n",
    "%load_ext autoreload\n",
    "%autoreload 2\n",
    "\n",
    "import mediapipe as mp\n",
    "import cv2\n",
    "import numpy as np\n",
    "import pandas as pd\n",
    "import matplotlib.pyplot as plt\n",
    "import seaborn as sns\n",
    "import os, sys\n",
    "import warnings\n",
    "\n",
    "# Thêm đường dẫn dẫn đến thư mục cha\n",
    "sys.path.append(os.path.abspath(\"..\"))\n",
    "warnings.filterwarnings(\"ignore\")\n",
    "\n",
    "# Drawing helpers\n",
    "mp_drawing = mp.solutions.drawing_utils\n",
    "mp_pose = mp.solutions.pose"
   ]
  },
  {
   "cell_type": "code",
   "execution_count": null,
   "metadata": {},
   "outputs": [],
   "source": [
    "from utils.landmarks import recalculate_landmarks, draw_landmarks"
   ]
  },
  {
   "cell_type": "markdown",
   "metadata": {},
   "source": [
    "### 1. Determine important landmarks for plank"
   ]
  },
  {
   "cell_type": "code",
   "execution_count": null,
   "metadata": {},
   "outputs": [],
   "source": [
    "IMPORTANT_LMS = [\n",
    "    \"nose\",\n",
    "    \"left_shoulder\",\n",
    "    \"right_shoulder\",\n",
    "    \"left_elbow\",\n",
    "    \"right_elbow\",\n",
    "    \"left_wrist\",\n",
    "    \"right_wrist\",\n",
    "    \"left_hip\",\n",
    "    \"right_hip\",\n",
    "    \"left_knee\",\n",
    "    \"right_knee\",\n",
    "    \"left_ankle\",\n",
    "    \"right_ankle\",\n",
    "    \"left_heel\",\n",
    "    \"right_heel\",\n",
    "    \"left_foot_index\",\n",
    "    \"right_foot_index\",\n",
    "]"
   ]
  },
  {
   "cell_type": "code",
   "execution_count": null,
   "metadata": {},
   "outputs": [],
   "source": [
    "def extract_key_points_from_image(\n",
    "    image_path, label, output_file, is_flip=False, is_draw_landmarks=False\n",
    "):\n",
    "    # Khởi tạo MediaPipe Pose\n",
    "    mp_pose = mp.solutions.pose\n",
    "    pose = mp_pose.Pose(\n",
    "        static_image_mode=True, model_complexity=1, smooth_landmarks=True\n",
    "    )\n",
    "\n",
    "    image = cv2.imread(image_path)\n",
    "    if is_flip:\n",
    "        image = cv2.flip(image, 1)\n",
    "\n",
    "    image_rgb = cv2.cvtColor(image, cv2.COLOR_BGR2RGB)\n",
    "\n",
    "    # Phát hiện pose\n",
    "    results = pose.process(image_rgb)\n",
    "\n",
    "    if results.pose_landmarks:\n",
    "        if is_draw_landmarks:\n",
    "            draw_landmarks(mp_drawing, mp_pose, image, results.pose_landmarks)\n",
    "\n",
    "        # Tính toán lại key points sau khi dịch chuyển phần hông vào giữa\n",
    "        recalculate_landmarks(results.pose_landmarks.landmark)\n",
    "\n",
    "        if is_draw_landmarks:\n",
    "            draw_landmarks(mp_drawing, mp_pose, image, results.pose_landmarks)\n",
    "            last_dot_index = image_path.rfind(\".\")\n",
    "            image_path_output = image_path[:last_dot_index] + \"_landmarks\" + image_path[last_dot_index:]\n",
    "            cv2.imwrite(image_path_output, image) # Lưu ảnh đã vẽ landmark\n",
    "\n",
    "        # Lưu lại toạ độ các key points sau khi dịch chuyển vào csv\n",
    "        columns_name = [\"label\"]\n",
    "        columns_value = [label]\n",
    "        for id, landmark in enumerate(results.pose_landmarks.landmark):\n",
    "            land_mark_name = mp_pose.PoseLandmark(id).name.lower()\n",
    "            if land_mark_name not in IMPORTANT_LMS:\n",
    "                continue\n",
    "            columns_name += [\n",
    "                f\"{ land_mark_name }_x\",\n",
    "                f\"{ land_mark_name }_y\",\n",
    "                f\"{ land_mark_name }_z\",\n",
    "            ]\n",
    "\n",
    "            # landmark.x, landmark.y là các giá trị trước khi dịch chuyển gốc toạ độ vào giữa bức hình\n",
    "            # Do đó khi đưa gốc toạ độ về giữa bức hình thì phải trừ chúng cho 0.5\n",
    "            columns_value += [\n",
    "                landmark.x - 0.5,\n",
    "                landmark.y - 0.5,\n",
    "                landmark.z,\n",
    "            ]\n",
    "\n",
    "        df_key_points = pd.DataFrame([columns_value], columns=columns_name)\n",
    "\n",
    "        with open(output_file, \"a\") as f:\n",
    "            # header=f.tell()==0 sẽ ghi tiêu đề nếu file trống\n",
    "            df_key_points.to_csv(f, header=f.tell() == 0, index=False)\n",
    "        \n",
    "    else:\n",
    "        print(image_path)\n",
    "\n",
    "    pose.close()"
   ]
  },
  {
   "cell_type": "code",
   "execution_count": null,
   "metadata": {},
   "outputs": [],
   "source": [
    "def extract_key_points_from_to_csv(input_folder, folder_type, output_file):\n",
    "    \"\"\"\n",
    "    Extract key points from images are in the input folder to the CSV file\n",
    "    \"\"\"\n",
    "    is_flip = False\n",
    "    for _ in range(1, 3):\n",
    "        for image_name in os.listdir(input_folder):\n",
    "            image_path = os.path.join(input_folder, image_name)\n",
    "            extract_key_points_from_image(image_path, folder_type, output_file, is_flip)\n",
    "        is_flip = not is_flip"
   ]
  },
  {
   "cell_type": "markdown",
   "metadata": {},
   "source": [
    "### 2. Collect data from category folder of plank"
   ]
  },
  {
   "cell_type": "code",
   "execution_count": null,
   "metadata": {},
   "outputs": [],
   "source": [
    "folder_qty = 13"
   ]
  },
  {
   "cell_type": "code",
   "execution_count": null,
   "metadata": {},
   "outputs": [],
   "source": [
    "# Collect data from correct folders\n",
    "for idx in range(10, folder_qty + 1):\n",
    "    extract_key_points_from_to_csv(\n",
    "        f\"../../keypoints/data/images_new/plank_pose_{idx:02d}_selected/Correct\", \"C\", \"train.csv\"\n",
    "    )\n",
    "    print(f\"Done folder: {idx}\")"
   ]
  },
  {
   "cell_type": "code",
   "execution_count": null,
   "metadata": {},
   "outputs": [],
   "source": [
    "# Collect data from wrong folders\n",
    "for idx in range(1, folder_qty + 1):\n",
    "    extract_key_points_from_to_csv(\n",
    "        f\"../../keypoints/data/images_new/plank_pose_{idx:02d}_selected/Wrong\",\n",
    "        \"W\",\n",
    "        \"train.csv\",\n",
    "    )\n",
    "    print(f\"Done folder: {idx}\")"
   ]
  },
  {
   "cell_type": "markdown",
   "metadata": {},
   "source": [
    "### 3. Clean the extracted data"
   ]
  },
  {
   "cell_type": "code",
   "execution_count": 42,
   "metadata": {},
   "outputs": [],
   "source": [
    "def remove_duplicate_row(input_file, output_file):\n",
    "    # Đọc dữ liệu từ file CSV\n",
    "    df = pd.read_csv(input_file)\n",
    "\n",
    "    # Xoá các hàng trùng lặp\n",
    "    df_new = df.drop_duplicates()\n",
    "\n",
    "    # Ghi dữ liệu đã được xử lý vào file CSV mới\n",
    "    df_new.to_csv(output_file, index=False)"
   ]
  },
  {
   "cell_type": "code",
   "execution_count": 43,
   "metadata": {},
   "outputs": [],
   "source": [
    "remove_duplicate_row(\"train.csv\", \"train_clean.csv\")"
   ]
  },
  {
   "cell_type": "code",
   "execution_count": 44,
   "metadata": {},
   "outputs": [],
   "source": [
    "plank_df = pd.read_csv(\"train_clean.csv\")"
   ]
  },
  {
   "cell_type": "code",
   "execution_count": 45,
   "metadata": {},
   "outputs": [
    {
     "data": {
      "image/png": "[encoded data removed]",
      "text/plain": [
       "<Figure size 640x480 with 1 Axes>"
      ]
     },
     "metadata": {},
     "output_type": "display_data"
    }
   ],
   "source": [
    "sns.countplot(plank_df, x=\"label\");"
   ]
  }
 ],
 "metadata": {
  "kernelspec": {
   "display_name": ".venv",
   "language": "python",
   "name": "python3"
  },
  "language_info": {
   "codemirror_mode": {
    "name": "ipython",
    "version": 3
   },
   "file_extension": ".py",
   "mimetype": "text/x-python",
   "name": "python",
   "nbconvert_exporter": "python",
   "pygments_lexer": "ipython3",
   "version": "3.11.5"
  }
 },
 "nbformat": 4,
 "nbformat_minor": 2
}
