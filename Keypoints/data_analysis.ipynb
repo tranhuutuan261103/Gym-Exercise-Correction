{
 "cells": [
  {
   "cell_type": "code",
   "execution_count": 1,
   "metadata": {},
   "outputs": [],
   "source": [
    "import os\n",
    "import cv2\n",
    "import mediapipe as mp"
   ]
  },
  {
   "cell_type": "code",
   "execution_count": 2,
   "metadata": {},
   "outputs": [
    {
     "name": "stdout",
     "output_type": "stream",
     "text": [
      "Frames per second using video.get(cv2.CAP_PROP_FPS) : 30.0\n",
      "Video length in seconds: 54\n"
     ]
    }
   ],
   "source": [
    "def check_frames_per_second(video_path):\n",
    "    cap = cv2.VideoCapture(video_path)\n",
    "\n",
    "    if not cap.isOpened():\n",
    "        print(\"Không thể mở video.\")\n",
    "        return\n",
    "\n",
    "    fps = cap.get(cv2.CAP_PROP_FPS)\n",
    "\n",
    "    print(f\"Frames per second using video.get(cv2.CAP_PROP_FPS) : {fps}\")\n",
    "\n",
    "    videoLengthInMinutes = int(cap.get(cv2.CAP_PROP_FRAME_COUNT) / fps)\n",
    "\n",
    "    print(f\"Video length in seconds: {videoLengthInMinutes}\")\n",
    "\n",
    "video_path = \"plank.mp4\"\n",
    "check_frames_per_second(video_path)"
   ]
  },
  {
   "cell_type": "markdown",
   "metadata": {},
   "source": [
    "Trích xuất video thành các ảnh( mỗi ảnh cách nhau 0.5s) và chuyển vào 1 folder"
   ]
  },
  {
   "cell_type": "code",
   "execution_count": 3,
   "metadata": {},
   "outputs": [],
   "source": [
    "# Trích xuất video thành các ảnh( mỗi ảnh cách nhau 0.5s) và chuyển vào 1 folder\n",
    "def extract_images_from_video(video_path, output_folder, timeStep=0.5):\n",
    "    if not os.path.exists(output_folder):\n",
    "        os.makedirs(output_folder)\n",
    "    \n",
    "    cap = cv2.VideoCapture(video_path)\n",
    "    fps = cap.get(cv2.CAP_PROP_FPS)\n",
    "    print(f\"Frames per second using video.get(cv2.CAP_PROP_FPS) : {fps}\")\n",
    "    \n",
    "    t = 0\n",
    "    count = 0\n",
    "    while cap.isOpened():\n",
    "        ret, frame = cap.read()\n",
    "        if ret:\n",
    "            if t % int(fps * timeStep) == 0:\n",
    "                count += 1\n",
    "                cv2.imwrite(output_folder + f\"/frame_{count}.jpg\", frame)\n",
    "            t += 1\n",
    "        else:\n",
    "            break\n",
    "    \n",
    "    cap.release()\n",
    "    cv2.destroyAllWindows()"
   ]
  },
  {
   "cell_type": "code",
   "execution_count": 9,
   "metadata": {},
   "outputs": [
    {
     "name": "stdout",
     "output_type": "stream",
     "text": [
      "Frames per second using video.get(cv2.CAP_PROP_FPS) : 30.0\n"
     ]
    }
   ],
   "source": [
    "extract_images_from_video('plank.mp4', 'data/images')"
   ]
  },
  {
   "cell_type": "code",
   "execution_count": 4,
   "metadata": {},
   "outputs": [],
   "source": [
    "# Trích xuất các keypoint từ ảnh\n",
    "def extract_keypoints(image_path):\n",
    "    mp_holistic = mp.solutions.holistic\n",
    "    holistic = mp_holistic.Holistic(min_detection_confidence=0.5, min_tracking_confidence=0.5)\n",
    "    image = cv2.imread(image_path)\n",
    "    image = cv2.cvtColor(image, cv2.COLOR_BGR2RGB)\n",
    "    results = holistic.process(image)\n",
    "    keypoints = []\n",
    "    for data_point in results.pose_landmarks.landmark:\n",
    "        keypoints.append({\n",
    "            'x': data_point.x,\n",
    "            'y': data_point.y,\n",
    "            'z': data_point.z,\n",
    "            'visibility': data_point.visibility,\n",
    "        })\n",
    "    return keypoints"
   ]
  },
  {
   "cell_type": "markdown",
   "metadata": {},
   "source": [
    "Hiển thị 1 ảnh kèm keypoint"
   ]
  },
  {
   "cell_type": "code",
   "execution_count": 5,
   "metadata": {},
   "outputs": [],
   "source": [
    "# Tạo cửa sổ để hiển thị ảnh và keypoint\n",
    "def display_image(image_path, keypoints):\n",
    "    image = cv2.imread(image_path)\n",
    "    for point in keypoints:\n",
    "        x = int(point['x'] * image.shape[1])\n",
    "        y = int(point['y'] * image.shape[0])\n",
    "        cv2.circle(image, (x, y), 3, (0, 0, 255), -1)\n",
    "    cv2.imshow('Image', image)\n",
    "    cv2.waitKey(0)\n",
    "    cv2.destroyAllWindows()"
   ]
  },
  {
   "cell_type": "code",
   "execution_count": 6,
   "metadata": {},
   "outputs": [],
   "source": [
    "display_image('data/images/frame_1.jpg', extract_keypoints('data/images/frame_1.jpg'))"
   ]
  },
  {
   "cell_type": "markdown",
   "metadata": {},
   "source": [
    "Từ tất cả các ảnh trong 1 folder, trích xuất và chuyển vào 1 folder mới"
   ]
  },
  {
   "cell_type": "code",
   "execution_count": 7,
   "metadata": {},
   "outputs": [],
   "source": [
    "def add_keypoints_to_images(input_folder, output_folder):\n",
    "    if not os.path.exists(output_folder):\n",
    "        os.makedirs(output_folder)\n",
    "\n",
    "    for image_name in os.listdir(input_folder):\n",
    "        image_path = os.path.join(input_folder, image_name)\n",
    "        keypoints = extract_keypoints(image_path)\n",
    "\n",
    "        # Vẽ keypoint lên ảnh và lưu vào folder mới\n",
    "        image = cv2.imread(image_path)\n",
    "        for point in keypoints:\n",
    "            x = int(point['x'] * image.shape[1])\n",
    "            y = int(point['y'] * image.shape[0])\n",
    "            cv2.circle(image, (x, y), 5, (0, 0, 255), -1)\n",
    "\n",
    "        output_path = os.path.join(output_folder, image_name)  # Corrected line\n",
    "        cv2.imwrite(output_path, image)  # Corrected line"
   ]
  },
  {
   "cell_type": "code",
   "execution_count": 14,
   "metadata": {},
   "outputs": [
    {
     "ename": "",
     "evalue": "",
     "output_type": "error",
     "traceback": [
      "\u001b[1;31mThe Kernel crashed while executing code in the the current cell or a previous cell. Please review the code in the cell(s) to identify a possible cause of the failure. Click <a href='https://aka.ms/vscodeJupyterKernelCrash'>here</a> for more info. View Jupyter <a href='command:jupyter.viewOutput'>log</a> for further details."
     ]
    }
   ],
   "source": [
    "add_keypoints_to_images('data/images', 'data/images_with_keypoints')"
   ]
  },
  {
   "cell_type": "markdown",
   "metadata": {},
   "source": [
    "Tool để gán nhãn nhanh"
   ]
  },
  {
   "cell_type": "code",
   "execution_count": 8,
   "metadata": {},
   "outputs": [
    {
     "name": "stdout",
     "output_type": "stream",
     "text": [
      "Exiting\n"
     ]
    }
   ],
   "source": [
    "import sys\n",
    "from PyQt5.QtWidgets import QApplication, QLabel, QMainWindow, QVBoxLayout, QWidget, QPushButton\n",
    "from PyQt5.QtGui import QPixmap\n",
    "\n",
    "import os\n",
    "import shutil\n",
    "\n",
    "def copy_images_to_folder(input_file, output_folder):\n",
    "    if not os.path.exists(output_folder):\n",
    "        os.makedirs(output_folder)\n",
    "    \n",
    "    # nếu trùng tên file thì sẽ bị ghi đè\n",
    "    shutil.copy(input_file, output_folder)\n",
    "\n",
    "def window():\n",
    "    app = QApplication(sys.argv)\n",
    "    window = QMainWindow()\n",
    "    window.setGeometry(200, 200, 1000, 800)\n",
    "    window.setWindowTitle(\"Plank\")\n",
    "    window.setStyleSheet(\"background-color: black;\")\n",
    "\n",
    "    images = os.listdir('data/images_with_keypoints')\n",
    "    imageLen = images.__len__()\n",
    "    current_image_index = 0\n",
    "    \n",
    "    # Tạo label hiển thị tên ảnh\n",
    "    namePic = QLabel(window)\n",
    "    namePic.setText(images[current_image_index])\n",
    "    namePic.setStyleSheet(\"color: white;\")\n",
    "    namePic.move(50, 700)\n",
    "    namePic.setGeometry(50, 700, 800, 50)\n",
    "\n",
    "    # Vẽ ảnh lên màn hình cửa sổ với ảnh từ file\n",
    "    pixmap = QPixmap('data/images_with_keypoints/' + images[current_image_index])\n",
    "    label = QLabel(window)\n",
    "    label.setPixmap(pixmap)\n",
    "    label.setGeometry(50, 50, 800, 600)\n",
    "    label.setScaledContents(True)\n",
    "\n",
    "    def updateUI():\n",
    "        nonlocal current_image_index\n",
    "        pixmap.load('data/images_with_keypoints/' + images[current_image_index])\n",
    "        label.setPixmap(pixmap)\n",
    "        label.repaint()\n",
    "\n",
    "        namePic.setText(str(current_image_index + 1) + \"/\" + str(imageLen) + \" - \" + images[current_image_index])\n",
    "\n",
    "    updateUI()\n",
    "\n",
    "    # Tạo button để hiển thị ảnh\n",
    "    continueButton = QPushButton(window)\n",
    "    continueButton.setText(\"Continue\")\n",
    "    continueButton.setStyleSheet(\"background-color: white;\")\n",
    "    continueButton.move(900, 700)\n",
    "\n",
    "    # Thêm sự kiện khi click vào button\n",
    "    def continueButtonClicked():\n",
    "        nonlocal current_image_index\n",
    "        current_image_index += 1\n",
    "        if current_image_index >= len(images):\n",
    "            current_image_index = 0\n",
    "        \n",
    "        updateUI()\n",
    "        \n",
    "    continueButton.clicked.connect(continueButtonClicked)\n",
    "\n",
    "    backButton = QPushButton(window)\n",
    "    backButton.setText(\"Back\")\n",
    "    backButton.setStyleSheet(\"background-color: white;\")\n",
    "    backButton.move(600, 700)\n",
    "\n",
    "    # Thêm sự kiện khi click vào button\n",
    "    def backButtonClicked():\n",
    "        nonlocal current_image_index\n",
    "        current_image_index -= 1\n",
    "        if current_image_index < 0:\n",
    "            current_image_index = len(images) - 1\n",
    "        \n",
    "        updateUI()\n",
    "\n",
    "    backButton.clicked.connect(backButtonClicked)\n",
    "\n",
    "    labelStatus = QLabel(window)\n",
    "    labelStatus.setText(\"Copied image to folder: c, w\")\n",
    "    labelStatus.setStyleSheet(\"color: white;\")\n",
    "    labelStatus.setGeometry(50, 750, 800, 50)\n",
    "\n",
    "    # Thêm sự kiện khi nhấn nút \"c\" để copy ảnh hiện tại vào folder khác\n",
    "    key_c = 67\n",
    "    catalog_c = 'Correct'\n",
    "    key_w = 87\n",
    "    catalog_w = 'Wrong'\n",
    "    key_u = 85\n",
    "    catalog_u = 'Up'\n",
    "    def keyPressEvent(event):\n",
    "        nonlocal current_image_index\n",
    "        \n",
    "        switcher = {\n",
    "            key_c: catalog_c,\n",
    "            key_w: catalog_w,\n",
    "            key_u: catalog_u\n",
    "        }\n",
    "\n",
    "        catalog = switcher.get(event.key(), \"Another folder\")\n",
    "        copy_images_to_folder('data/images_with_keypoints/' + images[current_image_index], 'data/selected_images' + '/' + catalog)\n",
    "        labelStatus.setText(\"Copied \" + images[current_image_index] +  \" to folder: \" + catalog)\n",
    "\n",
    "        # to next image\n",
    "        current_image_index += 1\n",
    "        if current_image_index >= len(images):\n",
    "            current_image_index = 0\n",
    "\n",
    "        updateUI()\n",
    "\n",
    "    window.keyPressEvent = keyPressEvent\n",
    "\n",
    "    window.show()\n",
    "    try:\n",
    "        sys.exit(app.exec_())\n",
    "    except:\n",
    "        print(\"Exiting\")\n",
    "\n",
    "window()"
   ]
  }
 ],
 "metadata": {
  "kernelspec": {
   "display_name": ".venv",
   "language": "python",
   "name": "python3"
  },
  "language_info": {
   "codemirror_mode": {
    "name": "ipython",
    "version": 3
   },
   "file_extension": ".py",
   "mimetype": "text/x-python",
   "name": "python",
   "nbconvert_exporter": "python",
   "pygments_lexer": "ipython3",
   "version": "3.11.3"
  }
 },
 "nbformat": 4,
 "nbformat_minor": 2
}
