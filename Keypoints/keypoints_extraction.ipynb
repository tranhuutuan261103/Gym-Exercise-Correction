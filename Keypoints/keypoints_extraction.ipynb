{
 "cells": [
  {
   "cell_type": "code",
   "execution_count": 2,
   "id": "1041540e",
   "metadata": {},
   "outputs": [],
   "source": [
    "# Thêm autoreload vào để tự động reload lại module nếu có thay đổi code trong module\n",
    "%load_ext autoreload\n",
    "%autoreload 2\n",
    "\n",
    "import sys\n",
    "import os\n",
    "\n",
    "# Thêm đường dẫn dẫn đến thư mục cha\n",
    "sys.path.append(os.path.abspath(\"..\"))"
   ]
  },
  {
   "cell_type": "code",
   "execution_count": null,
   "id": "182ff017",
   "metadata": {},
   "outputs": [],
   "source": [
    "# Check các đường dẫn mà có thể truy cập từ file này\n",
    "sys.path"
   ]
  },
  {
   "cell_type": "code",
   "execution_count": 3,
   "id": "0cb7bfa4",
   "metadata": {},
   "outputs": [],
   "source": [
    "import cv2\n",
    "import mediapipe as mp\n",
    "import pandas as pd\n",
    "import numpy as np"
   ]
  },
  {
   "cell_type": "code",
   "execution_count": 4,
   "id": "a4a1e8be",
   "metadata": {},
   "outputs": [],
   "source": [
    "from common.utils import extract_parts_of_file, get_current_time_string"
   ]
  },
  {
   "cell_type": "code",
   "execution_count": 16,
   "id": "dd039332",
   "metadata": {},
   "outputs": [],
   "source": [
    "def extract_key_points_from_image(image_path, label, file_output, is_save_pose_image=False):\n",
    "    file_name, file_extension = extract_parts_of_file(image_path)\n",
    "    current_time = get_current_time_string()\n",
    "\n",
    "    # Kiểm tra và tạo thư mục nếu chưa tồn tại\n",
    "    output_directory = \"result\"\n",
    "    if not os.path.exists(output_directory):\n",
    "        os.makedirs(output_directory)\n",
    "\n",
    "    # Khởi tạo MediaPipe Pose\n",
    "    mp_pose = mp.solutions.pose\n",
    "    pose = mp_pose.Pose(static_image_mode=True, model_complexity=1, smooth_landmarks=True)\n",
    "    mp_drawing = mp.solutions.drawing_utils\n",
    "\n",
    "    image = cv2.imread(image_path)\n",
    "    image_height, image_width, _ = image.shape\n",
    "    image_rgb = cv2.cvtColor(image, cv2.COLOR_BGR2RGB)\n",
    "\n",
    "    # Phát hiện pose\n",
    "    results = pose.process(image_rgb)\n",
    "\n",
    "    if results.pose_landmarks:\n",
    "        columns_name = [\"label\"]\n",
    "        columns_value = [label]\n",
    "        for id, landmark in enumerate(results.pose_landmarks.landmark):\n",
    "            land_mark_name = mp_pose.PoseLandmark(id).name.lower()\n",
    "            columns_name += [\n",
    "                f\"{ land_mark_name }_x\",\n",
    "                f\"{ land_mark_name }_y\",\n",
    "                f\"{ land_mark_name }_z\",\n",
    "            ]\n",
    "\n",
    "            columns_value += [\n",
    "                landmark.x * image_width,\n",
    "                landmark.y * image_height,\n",
    "                landmark.z * image_width,\n",
    "            ]\n",
    "\n",
    "        # Vẽ keypoints lên ảnh\n",
    "        mp_drawing.draw_landmarks(image, results.pose_landmarks, mp_pose.POSE_CONNECTIONS)\n",
    "\n",
    "    df_keypoints = pd.DataFrame([columns_value], columns=columns_name)\n",
    "\n",
    "    with open(f\"{output_directory}/{file_output}\", 'a') as f:\n",
    "        # header=f.tell()==0 sẽ ghi tiêu đề nếu file trống\n",
    "        df_keypoints.to_csv(f, header=f.tell() == 0, index=False)\n",
    "\n",
    "    # Lưu ảnh đã vẽ keypoints vào file mới\n",
    "    if is_save_pose_image:\n",
    "        images_folder = f\"{output_directory}/images\"\n",
    "        if not os.path.exists(images_folder):\n",
    "            os.makedirs(images_folder)\n",
    "\n",
    "        cv2.imwrite(\n",
    "            f\"{images_folder}/{current_time}_{file_name}.{file_extension}\", image\n",
    "        )\n",
    "\n",
    "    pose.close()"
   ]
  },
  {
   "cell_type": "code",
   "execution_count": 17,
   "id": "57f03afb",
   "metadata": {},
   "outputs": [],
   "source": [
    "extract_key_points_from_image(\"Lunge.png\", \"C\", \"train.csv\", is_save_pose_image=True)"
   ]
  }
 ],
 "metadata": {
  "kernelspec": {
   "display_name": "Python 3 (ipykernel)",
   "language": "python",
   "name": "python3"
  },
  "language_info": {
   "codemirror_mode": {
    "name": "ipython",
    "version": 3
   },
   "file_extension": ".py",
   "mimetype": "text/x-python",
   "name": "python",
   "nbconvert_exporter": "python",
   "pygments_lexer": "ipython3",
   "version": "3.11.5"
  }
 },
 "nbformat": 4,
 "nbformat_minor": 5
}
