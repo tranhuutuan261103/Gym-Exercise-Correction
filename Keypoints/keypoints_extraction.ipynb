{
 "cells": [
  {
   "cell_type": "code",
   "execution_count": 21,
   "id": "a780c120-c553-40c6-853f-5bc6f7814080",
   "metadata": {},
   "outputs": [],
   "source": [
    "import cv2\n",
    "import mediapipe as mp\n",
    "import pandas as pd"
   ]
  },
  {
   "cell_type": "code",
   "execution_count": 2,
   "id": "e6a24e85",
   "metadata": {},
   "outputs": [],
   "source": [
    "# Khởi tạo MediaPipe Pose\n",
    "mp_pose = mp.solutions.pose\n",
    "pose = mp_pose.Pose(static_image_mode=True, model_complexity=1, smooth_landmarks=True)\n",
    "mp_drawing = mp.solutions.drawing_utils"
   ]
  },
  {
   "cell_type": "code",
   "execution_count": 5,
   "id": "9f1c3dcf",
   "metadata": {},
   "outputs": [],
   "source": [
    "def extract_parts_of_file(image_path):\n",
    "    \"\"\"\n",
    "    Trích xuất ra các phần của 1 \n",
    "    \"\"\"\n",
    "    file_name, file_extension = image_path.split(\".\")\n",
    "    return file_name, file_extension"
   ]
  },
  {
   "cell_type": "code",
   "execution_count": null,
   "id": "33762eed",
   "metadata": {},
   "outputs": [],
   "source": [
    "\n",
    "def extract_key_points_from_image(image_path):\n",
    "    # Lấy ra các phần của một \n",
    "    image = cv2.imread(image_path)\n",
    "    image_height, image_width, _ = image.shape\n",
    "    image_rgb = cv2.cvtColor(image, cv2.COLOR_BGR2RGB)\n",
    "\n",
    "    # Phát hiện pose\n",
    "    results = pose.process(image_rgb)\n",
    "    print(results)\n",
    "\n",
    "    # Lưu thông tin của từng keypoint vào danh sách\n",
    "    key_points_data = []\n",
    "    if results.pose_landmarks:\n",
    "        for id, landmark in enumerate(results.pose_landmarks.landmark):\n",
    "            key_points_data.append(\n",
    "                {\n",
    "                    \"part\": mp_pose.PoseLandmark(id).name,  # Lấy tên của keypoint\n",
    "                    \"x\": landmark.x * image_width,  # Chuyển đổi tọa độ chuẩn hóa về pixel\n",
    "                    \"y\": landmark.y * image_height,  # Chuyển đổi tọa độ chuẩn hóa về pixel\n",
    "                    \"z\": landmark.z * image_width,\n",
    "                    \"visibility\": landmark.visibility,\n",
    "                }\n",
    "            )\n",
    "\n",
    "        # Vẽ keypoints lên ảnh\n",
    "        mp_drawing.draw_landmarks(image, results.pose_landmarks, mp_pose.POSE_CONNECTIONS)\n",
    "\n",
    "    # Tạo DataFrame từ dữ liệu và lưu vào CSV\n",
    "    df_keypoints = pd.DataFrame(key_points_data)\n",
    "    df_keypoints.to_csv(\"pose_keypoints.csv\", index=False)\n",
    "\n",
    "    # Lưu ảnh đã vẽ keypoints vào file mới\n",
    "    cv2.imwrite(\"pose_image.png\", image)\n",
    "\n",
    "    # Kết thúc MediaPipe Pose\n",
    "    pose.close()"
   ]
  },
  {
   "cell_type": "code",
   "execution_count": null,
   "id": "a672c3f9",
   "metadata": {},
   "outputs": [],
   "source": [
    "# Test trích xuất ảnh\n"
   ]
  }
 ],
 "metadata": {
  "kernelspec": {
   "display_name": "Python 3 (ipykernel)",
   "language": "python",
   "name": "python3"
  },
  "language_info": {
   "codemirror_mode": {
    "name": "ipython",
    "version": 3
   },
   "file_extension": ".py",
   "mimetype": "text/x-python",
   "name": "python",
   "nbconvert_exporter": "python",
   "pygments_lexer": "ipython3",
   "version": "3.11.5"
  }
 },
 "nbformat": 4,
 "nbformat_minor": 5
}
