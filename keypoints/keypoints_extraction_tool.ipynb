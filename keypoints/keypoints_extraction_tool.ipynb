{
 "cells": [
  {
   "cell_type": "code",
   "execution_count": 9,
   "metadata": {},
   "outputs": [],
   "source": [
    "import os\n",
    "import cv2\n",
    "import mediapipe as mp"
   ]
  },
  {
   "cell_type": "markdown",
   "metadata": {},
   "source": [
    "<span style=\"color: cyan\">Kiểm tra thông số của video</span>"
   ]
  },
  {
   "cell_type": "code",
   "execution_count": 10,
   "metadata": {},
   "outputs": [
    {
     "name": "stdout",
     "output_type": "stream",
     "text": [
      "Frames per second using video.get(cv2.CAP_PROP_FPS) : 30.001133725673775\n",
      "Video length in seconds: 50\n"
     ]
    }
   ],
   "source": [
    "def check_frames_per_second(video_path):\n",
    "    cap = cv2.VideoCapture(video_path)\n",
    "\n",
    "    if not cap.isOpened():\n",
    "        print(\"Không thể mở video.\")\n",
    "        return\n",
    "\n",
    "    fps = cap.get(cv2.CAP_PROP_FPS)\n",
    "\n",
    "    print(f\"Frames per second using video.get(cv2.CAP_PROP_FPS) : {fps}\")\n",
    "\n",
    "    video_length_in_seconds = int(cap.get(cv2.CAP_PROP_FRAME_COUNT) / fps)\n",
    "\n",
    "    print(f\"Video length in seconds: {video_length_in_seconds}\")\n",
    "\n",
    "video_path = \"12.mp4\"\n",
    "check_frames_per_second(video_path)"
   ]
  },
  {
   "cell_type": "markdown",
   "metadata": {},
   "source": [
    "<span style=\"color: cyan\">Trích xuất video thành các ảnh( mỗi ảnh cách nhau 0.5s) và chuyển vào 1 folder</span>"
   ]
  },
  {
   "cell_type": "code",
   "execution_count": 11,
   "metadata": {},
   "outputs": [],
   "source": [
    "# Trích xuất video thành các ảnh( mỗi ảnh cách nhau 0.5s) và chuyển vào 1 folder\n",
    "def extract_images_from_video(video_path, output_folder, time_step=0.5):\n",
    "    if not os.path.exists(output_folder):\n",
    "        os.makedirs(output_folder)\n",
    "    \n",
    "    cap = cv2.VideoCapture(video_path)\n",
    "    fps = cap.get(cv2.CAP_PROP_FPS)\n",
    "    print(f\"Frames per second using video.get(cv2.CAP_PROP_FPS) : {fps}\")\n",
    "    \n",
    "    t = 0\n",
    "    count = 0\n",
    "    while cap.isOpened():\n",
    "        ret, frame = cap.read()\n",
    "        if ret:\n",
    "            if t % int(fps * time_step) == 0:\n",
    "                count += 1\n",
    "                cv2.imwrite(output_folder + f\"/frame_{count}.jpg\", frame)\n",
    "            t += 1\n",
    "        else:\n",
    "            break\n",
    "    \n",
    "    cap.release()\n",
    "    cv2.destroyAllWindows()"
   ]
  },
  {
   "cell_type": "code",
   "execution_count": 12,
   "metadata": {},
   "outputs": [
    {
     "name": "stdout",
     "output_type": "stream",
     "text": [
      "Frames per second using video.get(cv2.CAP_PROP_FPS) : 30.001133725673775\n"
     ]
    }
   ],
   "source": [
    "extract_images_from_video('12.mp4', 'data/images/bicep_curl_12/')"
   ]
  },
  {
   "cell_type": "markdown",
   "metadata": {},
   "source": [
    "<span style=\"color: cyan\">Từ tất cả các ảnh trong 1 folder, vẽ key point lên các ảnh rồi chuyển vào 1 folder mới</span>"
   ]
  },
  {
   "cell_type": "code",
   "execution_count": 13,
   "metadata": {},
   "outputs": [],
   "source": [
    "def add_key_points_to_images(input_folder, output_folder):\n",
    "    if not os.path.exists(output_folder):\n",
    "        os.makedirs(output_folder)\n",
    "\n",
    "    # Khởi tạo MediaPipe Pose\n",
    "    mp_pose = mp.solutions.pose\n",
    "    pose = mp_pose.Pose(\n",
    "        static_image_mode=True, model_complexity=1, smooth_landmarks=True\n",
    "    )\n",
    "    mp_drawing = mp.solutions.drawing_utils\n",
    "\n",
    "    for image_name in os.listdir(input_folder):\n",
    "        print(image_name)\n",
    "\n",
    "        # Vẽ keypoint lên ảnh và lưu vào folder mới\n",
    "        image_path = os.path.join(input_folder, image_name)\n",
    "        image = cv2.imread(image_path)\n",
    "\n",
    "        image_rgb = cv2.cvtColor(image, cv2.COLOR_BGR2RGB)\n",
    "        results = pose.process(image_rgb)\n",
    "\n",
    "        if results.pose_landmarks:\n",
    "            pose_image = image.copy()\n",
    "            mp_drawing.draw_landmarks(\n",
    "                pose_image, results.pose_landmarks, mp_pose.POSE_CONNECTIONS\n",
    "            )\n",
    "\n",
    "        output_path = os.path.join(output_folder, image_name)\n",
    "\n",
    "        cv2.imwrite(output_path, pose_image)"
   ]
  },
  {
   "cell_type": "code",
   "execution_count": 14,
   "metadata": {},
   "outputs": [
    {
     "name": "stdout",
     "output_type": "stream",
     "text": [
      "frame_1.jpg\n",
      "frame_10.jpg\n",
      "frame_100.jpg\n",
      "frame_101.jpg\n",
      "frame_102.jpg\n",
      "frame_11.jpg\n",
      "frame_12.jpg\n",
      "frame_13.jpg\n",
      "frame_14.jpg\n",
      "frame_15.jpg\n",
      "frame_16.jpg\n",
      "frame_17.jpg\n",
      "frame_18.jpg\n",
      "frame_19.jpg\n",
      "frame_2.jpg\n",
      "frame_20.jpg\n",
      "frame_21.jpg\n",
      "frame_22.jpg\n",
      "frame_23.jpg\n",
      "frame_24.jpg\n",
      "frame_25.jpg\n",
      "frame_26.jpg\n",
      "frame_27.jpg\n",
      "frame_28.jpg\n",
      "frame_29.jpg\n",
      "frame_3.jpg\n",
      "frame_30.jpg\n",
      "frame_31.jpg\n",
      "frame_32.jpg\n",
      "frame_33.jpg\n",
      "frame_34.jpg\n",
      "frame_35.jpg\n",
      "frame_36.jpg\n",
      "frame_37.jpg\n",
      "frame_38.jpg\n",
      "frame_39.jpg\n",
      "frame_4.jpg\n",
      "frame_40.jpg\n",
      "frame_41.jpg\n",
      "frame_42.jpg\n",
      "frame_43.jpg\n",
      "frame_44.jpg\n",
      "frame_45.jpg\n",
      "frame_46.jpg\n",
      "frame_47.jpg\n",
      "frame_48.jpg\n",
      "frame_49.jpg\n",
      "frame_5.jpg\n",
      "frame_50.jpg\n",
      "frame_51.jpg\n",
      "frame_52.jpg\n",
      "frame_53.jpg\n",
      "frame_54.jpg\n",
      "frame_55.jpg\n",
      "frame_56.jpg\n",
      "frame_57.jpg\n",
      "frame_58.jpg\n",
      "frame_59.jpg\n",
      "frame_6.jpg\n",
      "frame_60.jpg\n",
      "frame_61.jpg\n",
      "frame_62.jpg\n",
      "frame_63.jpg\n",
      "frame_64.jpg\n",
      "frame_65.jpg\n",
      "frame_66.jpg\n",
      "frame_67.jpg\n",
      "frame_68.jpg\n",
      "frame_69.jpg\n",
      "frame_7.jpg\n",
      "frame_70.jpg\n",
      "frame_71.jpg\n",
      "frame_72.jpg\n",
      "frame_73.jpg\n",
      "frame_74.jpg\n",
      "frame_75.jpg\n",
      "frame_76.jpg\n",
      "frame_77.jpg\n",
      "frame_78.jpg\n",
      "frame_79.jpg\n",
      "frame_8.jpg\n",
      "frame_80.jpg\n",
      "frame_81.jpg\n",
      "frame_82.jpg\n",
      "frame_83.jpg\n",
      "frame_84.jpg\n",
      "frame_85.jpg\n",
      "frame_86.jpg\n",
      "frame_87.jpg\n",
      "frame_88.jpg\n",
      "frame_89.jpg\n",
      "frame_9.jpg\n",
      "frame_90.jpg\n",
      "frame_91.jpg\n",
      "frame_92.jpg\n",
      "frame_93.jpg\n",
      "frame_94.jpg\n",
      "frame_95.jpg\n",
      "frame_96.jpg\n",
      "frame_97.jpg\n",
      "frame_98.jpg\n",
      "frame_99.jpg\n"
     ]
    }
   ],
   "source": [
    "add_key_points_to_images(\"data/images/bicep_curl_12\", \"data/images/bicep_curl_pose_12\")"
   ]
  },
  {
   "cell_type": "markdown",
   "metadata": {},
   "source": [
    "<span style=\"color: cyan\">Tool để gán nhãn nhanh</span>"
   ]
  },
  {
   "cell_type": "code",
   "execution_count": 15,
   "metadata": {},
   "outputs": [],
   "source": [
    "import sys\n",
    "from PyQt5.QtWidgets import QApplication, QLabel, QMainWindow, QPushButton\n",
    "from PyQt5.QtGui import QPixmap\n",
    "\n",
    "import os\n",
    "import shutil\n",
    "\n",
    "def copy_images_to_folder(input_file, output_folder):\n",
    "    if not os.path.exists(output_folder):\n",
    "        os.makedirs(output_folder)\n",
    "\n",
    "    # nếu trùng tên file thì sẽ bị ghi đè\n",
    "    shutil.copy(input_file, output_folder)\n",
    "\n",
    "\n",
    "def window(input_folder, output_folder, shortcut):\n",
    "    original_folder = input_folder.replace(\"_pose_\", \"_\")\n",
    "\n",
    "    app = QApplication(sys.argv)\n",
    "    window = QMainWindow()\n",
    "    window.setGeometry(200, 200, 1000, 800)\n",
    "    window.setWindowTitle(\"Bicep curl\")\n",
    "    window.setStyleSheet(\"background-color: black;\")\n",
    "\n",
    "    images = os.listdir(input_folder)\n",
    "    image_count = images.__len__()\n",
    "    current_image_index = 0\n",
    "\n",
    "    # Tạo label hiển thị tên ảnh\n",
    "    name_pic = QLabel(window)\n",
    "    name_pic.setText(images[current_image_index])\n",
    "    name_pic.setStyleSheet(\"color: white;\")\n",
    "    name_pic.move(50, 700)\n",
    "    name_pic.setGeometry(50, 700, 800, 50)\n",
    "\n",
    "    # Vẽ ảnh lên màn hình cửa sổ với ảnh từ file\n",
    "    pixmap = QPixmap(f\"{input_folder}/{images[current_image_index]}\")\n",
    "    label = QLabel(window)\n",
    "    label.setPixmap(pixmap)\n",
    "    label.setGeometry(50, 50, 500, 600)\n",
    "    label.setScaledContents(True)\n",
    "\n",
    "    def update_ui():\n",
    "        nonlocal current_image_index\n",
    "        pixmap.load(f\"{input_folder}/{images[current_image_index]}\")\n",
    "        label.setPixmap(pixmap)\n",
    "        label.repaint()\n",
    "        name_pic.setText(str(current_image_index + 1) + \"/\" + str(image_count) + \" - \" + images[current_image_index])\n",
    "\n",
    "    update_ui()\n",
    "\n",
    "    # Tạo button để hiển thị ảnh\n",
    "    btn_continue = QPushButton(window)\n",
    "    btn_continue.setText(\"Continue\")\n",
    "    btn_continue.setStyleSheet(\"background-color: white;\")\n",
    "    btn_continue.move(900, 700)\n",
    "\n",
    "    # Thêm sự kiện khi click vào button\n",
    "    def btn_continue_clicked():\n",
    "        nonlocal current_image_index\n",
    "        current_image_index += 1\n",
    "        if current_image_index >= len(images):\n",
    "            current_image_index = 0\n",
    "        update_ui()\n",
    "\n",
    "    # Add event listener cho button\n",
    "    btn_continue.clicked.connect(btn_continue_clicked)\n",
    "\n",
    "    btn_back = QPushButton(window)\n",
    "    btn_back.setText(\"Back\")\n",
    "    btn_back.setStyleSheet(\"background-color: white;\")\n",
    "    btn_back.move(600, 700)\n",
    "\n",
    "    # Thêm sự kiện khi click vào button\n",
    "    def btn_back_clicked():\n",
    "        nonlocal current_image_index\n",
    "        current_image_index -= 1\n",
    "        if current_image_index < 0:\n",
    "            current_image_index = len(images) - 1\n",
    "\n",
    "        update_ui()\n",
    "\n",
    "    btn_back.clicked.connect(btn_back_clicked)\n",
    "\n",
    "    label_status = QLabel(window)\n",
    "    label_status.setText(f\"Copied image to folder using keys in: {[key for key in shortcut.keys()]}\")\n",
    "    label_status.setStyleSheet(\"color: white;\")\n",
    "    label_status.setGeometry(50, 750, 800, 50)\n",
    "\n",
    "    def key_press_event(event):\n",
    "        nonlocal current_image_index\n",
    "\n",
    "        key = chr(event.key()).lower()\n",
    "        catalog = shortcut.get(key, \"Another folder\")\n",
    "        copy_images_to_folder(\n",
    "            f\"{original_folder}/{images[current_image_index]}\",\n",
    "            f\"{output_folder}/{catalog}\",\n",
    "        )\n",
    "        label_status.setText(\"Copied \" + images[current_image_index] +  \" to folder: \" + catalog)\n",
    "\n",
    "        # to next image\n",
    "        current_image_index += 1\n",
    "        if current_image_index >= len(images):\n",
    "            current_image_index = 0\n",
    "\n",
    "        update_ui()\n",
    "\n",
    "    window.keyPressEvent = key_press_event\n",
    "\n",
    "    window.show()\n",
    "    try:\n",
    "        sys.exit(app.exec_())\n",
    "    except:\n",
    "        print(\"Exiting\")"
   ]
  },
  {
   "cell_type": "markdown",
   "metadata": {},
   "source": [
    "<span style=\"color: cyan\">Thử nghiệm tool gán nhãn</span>"
   ]
  },
  {
   "cell_type": "code",
   "execution_count": 16,
   "metadata": {},
   "outputs": [
    {
     "ename": "ValueError",
     "evalue": "chr() arg not in range(0x110000)",
     "output_type": "error",
     "traceback": [
      "\u001b[1;31m---------------------------------------------------------------------------\u001b[0m",
      "\u001b[1;31mValueError\u001b[0m                                Traceback (most recent call last)",
      "Cell \u001b[1;32mIn[15], line 93\u001b[0m, in \u001b[0;36mwindow.<locals>.key_press_event\u001b[1;34m(event)\u001b[0m\n\u001b[0;32m     90\u001b[0m \u001b[38;5;28;01mdef\u001b[39;00m \u001b[38;5;21mkey_press_event\u001b[39m(event):\n\u001b[0;32m     91\u001b[0m     \u001b[38;5;28;01mnonlocal\u001b[39;00m current_image_index\n\u001b[1;32m---> 93\u001b[0m     key \u001b[38;5;241m=\u001b[39m \u001b[38;5;28;43mchr\u001b[39;49m\u001b[43m(\u001b[49m\u001b[43mevent\u001b[49m\u001b[38;5;241;43m.\u001b[39;49m\u001b[43mkey\u001b[49m\u001b[43m(\u001b[49m\u001b[43m)\u001b[49m\u001b[43m)\u001b[49m\u001b[38;5;241m.\u001b[39mlower()\n\u001b[0;32m     94\u001b[0m     catalog \u001b[38;5;241m=\u001b[39m shortcut\u001b[38;5;241m.\u001b[39mget(key, \u001b[38;5;124m\"\u001b[39m\u001b[38;5;124mAnother folder\u001b[39m\u001b[38;5;124m\"\u001b[39m)\n\u001b[0;32m     95\u001b[0m     copy_images_to_folder(\n\u001b[0;32m     96\u001b[0m         \u001b[38;5;124mf\u001b[39m\u001b[38;5;124m\"\u001b[39m\u001b[38;5;132;01m{\u001b[39;00moriginal_folder\u001b[38;5;132;01m}\u001b[39;00m\u001b[38;5;124m/\u001b[39m\u001b[38;5;132;01m{\u001b[39;00mimages[current_image_index]\u001b[38;5;132;01m}\u001b[39;00m\u001b[38;5;124m\"\u001b[39m,\n\u001b[0;32m     97\u001b[0m         \u001b[38;5;124mf\u001b[39m\u001b[38;5;124m\"\u001b[39m\u001b[38;5;132;01m{\u001b[39;00moutput_folder\u001b[38;5;132;01m}\u001b[39;00m\u001b[38;5;124m/\u001b[39m\u001b[38;5;132;01m{\u001b[39;00mcatalog\u001b[38;5;132;01m}\u001b[39;00m\u001b[38;5;124m\"\u001b[39m,\n\u001b[0;32m     98\u001b[0m     )\n",
      "\u001b[1;31mValueError\u001b[0m: chr() arg not in range(0x110000)"
     ]
    },
    {
     "ename": "ValueError",
     "evalue": "chr() arg not in range(0x110000)",
     "output_type": "error",
     "traceback": [
      "\u001b[1;31m---------------------------------------------------------------------------\u001b[0m",
      "\u001b[1;31mValueError\u001b[0m                                Traceback (most recent call last)",
      "Cell \u001b[1;32mIn[15], line 93\u001b[0m, in \u001b[0;36mwindow.<locals>.key_press_event\u001b[1;34m(event)\u001b[0m\n\u001b[0;32m     90\u001b[0m \u001b[38;5;28;01mdef\u001b[39;00m \u001b[38;5;21mkey_press_event\u001b[39m(event):\n\u001b[0;32m     91\u001b[0m     \u001b[38;5;28;01mnonlocal\u001b[39;00m current_image_index\n\u001b[1;32m---> 93\u001b[0m     key \u001b[38;5;241m=\u001b[39m \u001b[38;5;28;43mchr\u001b[39;49m\u001b[43m(\u001b[49m\u001b[43mevent\u001b[49m\u001b[38;5;241;43m.\u001b[39;49m\u001b[43mkey\u001b[49m\u001b[43m(\u001b[49m\u001b[43m)\u001b[49m\u001b[43m)\u001b[49m\u001b[38;5;241m.\u001b[39mlower()\n\u001b[0;32m     94\u001b[0m     catalog \u001b[38;5;241m=\u001b[39m shortcut\u001b[38;5;241m.\u001b[39mget(key, \u001b[38;5;124m\"\u001b[39m\u001b[38;5;124mAnother folder\u001b[39m\u001b[38;5;124m\"\u001b[39m)\n\u001b[0;32m     95\u001b[0m     copy_images_to_folder(\n\u001b[0;32m     96\u001b[0m         \u001b[38;5;124mf\u001b[39m\u001b[38;5;124m\"\u001b[39m\u001b[38;5;132;01m{\u001b[39;00moriginal_folder\u001b[38;5;132;01m}\u001b[39;00m\u001b[38;5;124m/\u001b[39m\u001b[38;5;132;01m{\u001b[39;00mimages[current_image_index]\u001b[38;5;132;01m}\u001b[39;00m\u001b[38;5;124m\"\u001b[39m,\n\u001b[0;32m     97\u001b[0m         \u001b[38;5;124mf\u001b[39m\u001b[38;5;124m\"\u001b[39m\u001b[38;5;132;01m{\u001b[39;00moutput_folder\u001b[38;5;132;01m}\u001b[39;00m\u001b[38;5;124m/\u001b[39m\u001b[38;5;132;01m{\u001b[39;00mcatalog\u001b[38;5;132;01m}\u001b[39;00m\u001b[38;5;124m\"\u001b[39m,\n\u001b[0;32m     98\u001b[0m     )\n",
      "\u001b[1;31mValueError\u001b[0m: chr() arg not in range(0x110000)"
     ]
    },
    {
     "ename": "ValueError",
     "evalue": "chr() arg not in range(0x110000)",
     "output_type": "error",
     "traceback": [
      "\u001b[1;31m---------------------------------------------------------------------------\u001b[0m",
      "\u001b[1;31mValueError\u001b[0m                                Traceback (most recent call last)",
      "Cell \u001b[1;32mIn[15], line 93\u001b[0m, in \u001b[0;36mwindow.<locals>.key_press_event\u001b[1;34m(event)\u001b[0m\n\u001b[0;32m     90\u001b[0m \u001b[38;5;28;01mdef\u001b[39;00m \u001b[38;5;21mkey_press_event\u001b[39m(event):\n\u001b[0;32m     91\u001b[0m     \u001b[38;5;28;01mnonlocal\u001b[39;00m current_image_index\n\u001b[1;32m---> 93\u001b[0m     key \u001b[38;5;241m=\u001b[39m \u001b[38;5;28;43mchr\u001b[39;49m\u001b[43m(\u001b[49m\u001b[43mevent\u001b[49m\u001b[38;5;241;43m.\u001b[39;49m\u001b[43mkey\u001b[49m\u001b[43m(\u001b[49m\u001b[43m)\u001b[49m\u001b[43m)\u001b[49m\u001b[38;5;241m.\u001b[39mlower()\n\u001b[0;32m     94\u001b[0m     catalog \u001b[38;5;241m=\u001b[39m shortcut\u001b[38;5;241m.\u001b[39mget(key, \u001b[38;5;124m\"\u001b[39m\u001b[38;5;124mAnother folder\u001b[39m\u001b[38;5;124m\"\u001b[39m)\n\u001b[0;32m     95\u001b[0m     copy_images_to_folder(\n\u001b[0;32m     96\u001b[0m         \u001b[38;5;124mf\u001b[39m\u001b[38;5;124m\"\u001b[39m\u001b[38;5;132;01m{\u001b[39;00moriginal_folder\u001b[38;5;132;01m}\u001b[39;00m\u001b[38;5;124m/\u001b[39m\u001b[38;5;132;01m{\u001b[39;00mimages[current_image_index]\u001b[38;5;132;01m}\u001b[39;00m\u001b[38;5;124m\"\u001b[39m,\n\u001b[0;32m     97\u001b[0m         \u001b[38;5;124mf\u001b[39m\u001b[38;5;124m\"\u001b[39m\u001b[38;5;132;01m{\u001b[39;00moutput_folder\u001b[38;5;132;01m}\u001b[39;00m\u001b[38;5;124m/\u001b[39m\u001b[38;5;132;01m{\u001b[39;00mcatalog\u001b[38;5;132;01m}\u001b[39;00m\u001b[38;5;124m\"\u001b[39m,\n\u001b[0;32m     98\u001b[0m     )\n",
      "\u001b[1;31mValueError\u001b[0m: chr() arg not in range(0x110000)"
     ]
    },
    {
     "ename": "ValueError",
     "evalue": "chr() arg not in range(0x110000)",
     "output_type": "error",
     "traceback": [
      "\u001b[1;31m---------------------------------------------------------------------------\u001b[0m",
      "\u001b[1;31mValueError\u001b[0m                                Traceback (most recent call last)",
      "Cell \u001b[1;32mIn[15], line 93\u001b[0m, in \u001b[0;36mwindow.<locals>.key_press_event\u001b[1;34m(event)\u001b[0m\n\u001b[0;32m     90\u001b[0m \u001b[38;5;28;01mdef\u001b[39;00m \u001b[38;5;21mkey_press_event\u001b[39m(event):\n\u001b[0;32m     91\u001b[0m     \u001b[38;5;28;01mnonlocal\u001b[39;00m current_image_index\n\u001b[1;32m---> 93\u001b[0m     key \u001b[38;5;241m=\u001b[39m \u001b[38;5;28;43mchr\u001b[39;49m\u001b[43m(\u001b[49m\u001b[43mevent\u001b[49m\u001b[38;5;241;43m.\u001b[39;49m\u001b[43mkey\u001b[49m\u001b[43m(\u001b[49m\u001b[43m)\u001b[49m\u001b[43m)\u001b[49m\u001b[38;5;241m.\u001b[39mlower()\n\u001b[0;32m     94\u001b[0m     catalog \u001b[38;5;241m=\u001b[39m shortcut\u001b[38;5;241m.\u001b[39mget(key, \u001b[38;5;124m\"\u001b[39m\u001b[38;5;124mAnother folder\u001b[39m\u001b[38;5;124m\"\u001b[39m)\n\u001b[0;32m     95\u001b[0m     copy_images_to_folder(\n\u001b[0;32m     96\u001b[0m         \u001b[38;5;124mf\u001b[39m\u001b[38;5;124m\"\u001b[39m\u001b[38;5;132;01m{\u001b[39;00moriginal_folder\u001b[38;5;132;01m}\u001b[39;00m\u001b[38;5;124m/\u001b[39m\u001b[38;5;132;01m{\u001b[39;00mimages[current_image_index]\u001b[38;5;132;01m}\u001b[39;00m\u001b[38;5;124m\"\u001b[39m,\n\u001b[0;32m     97\u001b[0m         \u001b[38;5;124mf\u001b[39m\u001b[38;5;124m\"\u001b[39m\u001b[38;5;132;01m{\u001b[39;00moutput_folder\u001b[38;5;132;01m}\u001b[39;00m\u001b[38;5;124m/\u001b[39m\u001b[38;5;132;01m{\u001b[39;00mcatalog\u001b[38;5;132;01m}\u001b[39;00m\u001b[38;5;124m\"\u001b[39m,\n\u001b[0;32m     98\u001b[0m     )\n",
      "\u001b[1;31mValueError\u001b[0m: chr() arg not in range(0x110000)"
     ]
    },
    {
     "ename": "ValueError",
     "evalue": "chr() arg not in range(0x110000)",
     "output_type": "error",
     "traceback": [
      "\u001b[1;31m---------------------------------------------------------------------------\u001b[0m",
      "\u001b[1;31mValueError\u001b[0m                                Traceback (most recent call last)",
      "Cell \u001b[1;32mIn[15], line 93\u001b[0m, in \u001b[0;36mwindow.<locals>.key_press_event\u001b[1;34m(event)\u001b[0m\n\u001b[0;32m     90\u001b[0m \u001b[38;5;28;01mdef\u001b[39;00m \u001b[38;5;21mkey_press_event\u001b[39m(event):\n\u001b[0;32m     91\u001b[0m     \u001b[38;5;28;01mnonlocal\u001b[39;00m current_image_index\n\u001b[1;32m---> 93\u001b[0m     key \u001b[38;5;241m=\u001b[39m \u001b[38;5;28;43mchr\u001b[39;49m\u001b[43m(\u001b[49m\u001b[43mevent\u001b[49m\u001b[38;5;241;43m.\u001b[39;49m\u001b[43mkey\u001b[49m\u001b[43m(\u001b[49m\u001b[43m)\u001b[49m\u001b[43m)\u001b[49m\u001b[38;5;241m.\u001b[39mlower()\n\u001b[0;32m     94\u001b[0m     catalog \u001b[38;5;241m=\u001b[39m shortcut\u001b[38;5;241m.\u001b[39mget(key, \u001b[38;5;124m\"\u001b[39m\u001b[38;5;124mAnother folder\u001b[39m\u001b[38;5;124m\"\u001b[39m)\n\u001b[0;32m     95\u001b[0m     copy_images_to_folder(\n\u001b[0;32m     96\u001b[0m         \u001b[38;5;124mf\u001b[39m\u001b[38;5;124m\"\u001b[39m\u001b[38;5;132;01m{\u001b[39;00moriginal_folder\u001b[38;5;132;01m}\u001b[39;00m\u001b[38;5;124m/\u001b[39m\u001b[38;5;132;01m{\u001b[39;00mimages[current_image_index]\u001b[38;5;132;01m}\u001b[39;00m\u001b[38;5;124m\"\u001b[39m,\n\u001b[0;32m     97\u001b[0m         \u001b[38;5;124mf\u001b[39m\u001b[38;5;124m\"\u001b[39m\u001b[38;5;132;01m{\u001b[39;00moutput_folder\u001b[38;5;132;01m}\u001b[39;00m\u001b[38;5;124m/\u001b[39m\u001b[38;5;132;01m{\u001b[39;00mcatalog\u001b[38;5;132;01m}\u001b[39;00m\u001b[38;5;124m\"\u001b[39m,\n\u001b[0;32m     98\u001b[0m     )\n",
      "\u001b[1;31mValueError\u001b[0m: chr() arg not in range(0x110000)"
     ]
    },
    {
     "ename": "ValueError",
     "evalue": "chr() arg not in range(0x110000)",
     "output_type": "error",
     "traceback": [
      "\u001b[1;31m---------------------------------------------------------------------------\u001b[0m",
      "\u001b[1;31mValueError\u001b[0m                                Traceback (most recent call last)",
      "Cell \u001b[1;32mIn[15], line 93\u001b[0m, in \u001b[0;36mwindow.<locals>.key_press_event\u001b[1;34m(event)\u001b[0m\n\u001b[0;32m     90\u001b[0m \u001b[38;5;28;01mdef\u001b[39;00m \u001b[38;5;21mkey_press_event\u001b[39m(event):\n\u001b[0;32m     91\u001b[0m     \u001b[38;5;28;01mnonlocal\u001b[39;00m current_image_index\n\u001b[1;32m---> 93\u001b[0m     key \u001b[38;5;241m=\u001b[39m \u001b[38;5;28;43mchr\u001b[39;49m\u001b[43m(\u001b[49m\u001b[43mevent\u001b[49m\u001b[38;5;241;43m.\u001b[39;49m\u001b[43mkey\u001b[49m\u001b[43m(\u001b[49m\u001b[43m)\u001b[49m\u001b[43m)\u001b[49m\u001b[38;5;241m.\u001b[39mlower()\n\u001b[0;32m     94\u001b[0m     catalog \u001b[38;5;241m=\u001b[39m shortcut\u001b[38;5;241m.\u001b[39mget(key, \u001b[38;5;124m\"\u001b[39m\u001b[38;5;124mAnother folder\u001b[39m\u001b[38;5;124m\"\u001b[39m)\n\u001b[0;32m     95\u001b[0m     copy_images_to_folder(\n\u001b[0;32m     96\u001b[0m         \u001b[38;5;124mf\u001b[39m\u001b[38;5;124m\"\u001b[39m\u001b[38;5;132;01m{\u001b[39;00moriginal_folder\u001b[38;5;132;01m}\u001b[39;00m\u001b[38;5;124m/\u001b[39m\u001b[38;5;132;01m{\u001b[39;00mimages[current_image_index]\u001b[38;5;132;01m}\u001b[39;00m\u001b[38;5;124m\"\u001b[39m,\n\u001b[0;32m     97\u001b[0m         \u001b[38;5;124mf\u001b[39m\u001b[38;5;124m\"\u001b[39m\u001b[38;5;132;01m{\u001b[39;00moutput_folder\u001b[38;5;132;01m}\u001b[39;00m\u001b[38;5;124m/\u001b[39m\u001b[38;5;132;01m{\u001b[39;00mcatalog\u001b[38;5;132;01m}\u001b[39;00m\u001b[38;5;124m\"\u001b[39m,\n\u001b[0;32m     98\u001b[0m     )\n",
      "\u001b[1;31mValueError\u001b[0m: chr() arg not in range(0x110000)"
     ]
    },
    {
     "ename": "ValueError",
     "evalue": "chr() arg not in range(0x110000)",
     "output_type": "error",
     "traceback": [
      "\u001b[1;31m---------------------------------------------------------------------------\u001b[0m",
      "\u001b[1;31mValueError\u001b[0m                                Traceback (most recent call last)",
      "Cell \u001b[1;32mIn[15], line 93\u001b[0m, in \u001b[0;36mwindow.<locals>.key_press_event\u001b[1;34m(event)\u001b[0m\n\u001b[0;32m     90\u001b[0m \u001b[38;5;28;01mdef\u001b[39;00m \u001b[38;5;21mkey_press_event\u001b[39m(event):\n\u001b[0;32m     91\u001b[0m     \u001b[38;5;28;01mnonlocal\u001b[39;00m current_image_index\n\u001b[1;32m---> 93\u001b[0m     key \u001b[38;5;241m=\u001b[39m \u001b[38;5;28;43mchr\u001b[39;49m\u001b[43m(\u001b[49m\u001b[43mevent\u001b[49m\u001b[38;5;241;43m.\u001b[39;49m\u001b[43mkey\u001b[49m\u001b[43m(\u001b[49m\u001b[43m)\u001b[49m\u001b[43m)\u001b[49m\u001b[38;5;241m.\u001b[39mlower()\n\u001b[0;32m     94\u001b[0m     catalog \u001b[38;5;241m=\u001b[39m shortcut\u001b[38;5;241m.\u001b[39mget(key, \u001b[38;5;124m\"\u001b[39m\u001b[38;5;124mAnother folder\u001b[39m\u001b[38;5;124m\"\u001b[39m)\n\u001b[0;32m     95\u001b[0m     copy_images_to_folder(\n\u001b[0;32m     96\u001b[0m         \u001b[38;5;124mf\u001b[39m\u001b[38;5;124m\"\u001b[39m\u001b[38;5;132;01m{\u001b[39;00moriginal_folder\u001b[38;5;132;01m}\u001b[39;00m\u001b[38;5;124m/\u001b[39m\u001b[38;5;132;01m{\u001b[39;00mimages[current_image_index]\u001b[38;5;132;01m}\u001b[39;00m\u001b[38;5;124m\"\u001b[39m,\n\u001b[0;32m     97\u001b[0m         \u001b[38;5;124mf\u001b[39m\u001b[38;5;124m\"\u001b[39m\u001b[38;5;132;01m{\u001b[39;00moutput_folder\u001b[38;5;132;01m}\u001b[39;00m\u001b[38;5;124m/\u001b[39m\u001b[38;5;132;01m{\u001b[39;00mcatalog\u001b[38;5;132;01m}\u001b[39;00m\u001b[38;5;124m\"\u001b[39m,\n\u001b[0;32m     98\u001b[0m     )\n",
      "\u001b[1;31mValueError\u001b[0m: chr() arg not in range(0x110000)"
     ]
    },
    {
     "ename": "ValueError",
     "evalue": "chr() arg not in range(0x110000)",
     "output_type": "error",
     "traceback": [
      "\u001b[1;31m---------------------------------------------------------------------------\u001b[0m",
      "\u001b[1;31mValueError\u001b[0m                                Traceback (most recent call last)",
      "Cell \u001b[1;32mIn[15], line 93\u001b[0m, in \u001b[0;36mwindow.<locals>.key_press_event\u001b[1;34m(event)\u001b[0m\n\u001b[0;32m     90\u001b[0m \u001b[38;5;28;01mdef\u001b[39;00m \u001b[38;5;21mkey_press_event\u001b[39m(event):\n\u001b[0;32m     91\u001b[0m     \u001b[38;5;28;01mnonlocal\u001b[39;00m current_image_index\n\u001b[1;32m---> 93\u001b[0m     key \u001b[38;5;241m=\u001b[39m \u001b[38;5;28;43mchr\u001b[39;49m\u001b[43m(\u001b[49m\u001b[43mevent\u001b[49m\u001b[38;5;241;43m.\u001b[39;49m\u001b[43mkey\u001b[49m\u001b[43m(\u001b[49m\u001b[43m)\u001b[49m\u001b[43m)\u001b[49m\u001b[38;5;241m.\u001b[39mlower()\n\u001b[0;32m     94\u001b[0m     catalog \u001b[38;5;241m=\u001b[39m shortcut\u001b[38;5;241m.\u001b[39mget(key, \u001b[38;5;124m\"\u001b[39m\u001b[38;5;124mAnother folder\u001b[39m\u001b[38;5;124m\"\u001b[39m)\n\u001b[0;32m     95\u001b[0m     copy_images_to_folder(\n\u001b[0;32m     96\u001b[0m         \u001b[38;5;124mf\u001b[39m\u001b[38;5;124m\"\u001b[39m\u001b[38;5;132;01m{\u001b[39;00moriginal_folder\u001b[38;5;132;01m}\u001b[39;00m\u001b[38;5;124m/\u001b[39m\u001b[38;5;132;01m{\u001b[39;00mimages[current_image_index]\u001b[38;5;132;01m}\u001b[39;00m\u001b[38;5;124m\"\u001b[39m,\n\u001b[0;32m     97\u001b[0m         \u001b[38;5;124mf\u001b[39m\u001b[38;5;124m\"\u001b[39m\u001b[38;5;132;01m{\u001b[39;00moutput_folder\u001b[38;5;132;01m}\u001b[39;00m\u001b[38;5;124m/\u001b[39m\u001b[38;5;132;01m{\u001b[39;00mcatalog\u001b[38;5;132;01m}\u001b[39;00m\u001b[38;5;124m\"\u001b[39m,\n\u001b[0;32m     98\u001b[0m     )\n",
      "\u001b[1;31mValueError\u001b[0m: chr() arg not in range(0x110000)"
     ]
    },
    {
     "ename": "ValueError",
     "evalue": "chr() arg not in range(0x110000)",
     "output_type": "error",
     "traceback": [
      "\u001b[1;31m---------------------------------------------------------------------------\u001b[0m",
      "\u001b[1;31mValueError\u001b[0m                                Traceback (most recent call last)",
      "Cell \u001b[1;32mIn[15], line 93\u001b[0m, in \u001b[0;36mwindow.<locals>.key_press_event\u001b[1;34m(event)\u001b[0m\n\u001b[0;32m     90\u001b[0m \u001b[38;5;28;01mdef\u001b[39;00m \u001b[38;5;21mkey_press_event\u001b[39m(event):\n\u001b[0;32m     91\u001b[0m     \u001b[38;5;28;01mnonlocal\u001b[39;00m current_image_index\n\u001b[1;32m---> 93\u001b[0m     key \u001b[38;5;241m=\u001b[39m \u001b[38;5;28;43mchr\u001b[39;49m\u001b[43m(\u001b[49m\u001b[43mevent\u001b[49m\u001b[38;5;241;43m.\u001b[39;49m\u001b[43mkey\u001b[49m\u001b[43m(\u001b[49m\u001b[43m)\u001b[49m\u001b[43m)\u001b[49m\u001b[38;5;241m.\u001b[39mlower()\n\u001b[0;32m     94\u001b[0m     catalog \u001b[38;5;241m=\u001b[39m shortcut\u001b[38;5;241m.\u001b[39mget(key, \u001b[38;5;124m\"\u001b[39m\u001b[38;5;124mAnother folder\u001b[39m\u001b[38;5;124m\"\u001b[39m)\n\u001b[0;32m     95\u001b[0m     copy_images_to_folder(\n\u001b[0;32m     96\u001b[0m         \u001b[38;5;124mf\u001b[39m\u001b[38;5;124m\"\u001b[39m\u001b[38;5;132;01m{\u001b[39;00moriginal_folder\u001b[38;5;132;01m}\u001b[39;00m\u001b[38;5;124m/\u001b[39m\u001b[38;5;132;01m{\u001b[39;00mimages[current_image_index]\u001b[38;5;132;01m}\u001b[39;00m\u001b[38;5;124m\"\u001b[39m,\n\u001b[0;32m     97\u001b[0m         \u001b[38;5;124mf\u001b[39m\u001b[38;5;124m\"\u001b[39m\u001b[38;5;132;01m{\u001b[39;00moutput_folder\u001b[38;5;132;01m}\u001b[39;00m\u001b[38;5;124m/\u001b[39m\u001b[38;5;132;01m{\u001b[39;00mcatalog\u001b[38;5;132;01m}\u001b[39;00m\u001b[38;5;124m\"\u001b[39m,\n\u001b[0;32m     98\u001b[0m     )\n",
      "\u001b[1;31mValueError\u001b[0m: chr() arg not in range(0x110000)"
     ]
    },
    {
     "name": "stdout",
     "output_type": "stream",
     "text": [
      "Exiting\n"
     ]
    }
   ],
   "source": [
    "# Thay đổi shortcut này tuỳ vào bài toán\n",
    "shortcut = {\n",
    "    \"u\": \"Up\",\n",
    "    \"m\": \"Middle\",\n",
    "    \"d\": \"Down\"\n",
    "}\n",
    "\n",
    "window(\"./data/images/bicep_curl_pose_12\", \"./data/images/bicep_curl_pose_12selected/\", shortcut)"
   ]
  }
 ],
 "metadata": {
  "kernelspec": {
   "display_name": ".venv",
   "language": "python",
   "name": "python3"
  },
  "language_info": {
   "codemirror_mode": {
    "name": "ipython",
    "version": 3
   },
   "file_extension": ".py",
   "mimetype": "text/x-python",
   "name": "python",
   "nbconvert_exporter": "python",
   "pygments_lexer": "ipython3",
   "version": "3.11.5"
  }
 },
 "nbformat": 4,
 "nbformat_minor": 2
}
